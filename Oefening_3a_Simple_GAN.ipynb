{
  "nbformat": 4,
  "nbformat_minor": 0,
  "metadata": {
    "colab": {
      "name": "Oefening 3a Simple GAN.ipynb",
      "provenance": [],
      "collapsed_sections": [
        "8IGhQ_T-VmNE",
        "yYP6GerCV2uz",
        "t_Eus7M7WMTy",
        "ZuVt53wYWSA5"
      ],
      "authorship_tag": "ABX9TyNPcalhdOtnB3mZLBC25RrT",
      "include_colab_link": true
    },
    "kernelspec": {
      "display_name": "Python 3",
      "name": "python3"
    }
  },
  "cells": [
    {
      "cell_type": "markdown",
      "metadata": {
        "id": "view-in-github",
        "colab_type": "text"
      },
      "source": [
        "<a href=\"https://colab.research.google.com/github/HansHenseler/lcdstrack/blob/main/Oefening_3a_Simple_GAN.ipynb\" target=\"_parent\"><img src=\"https://colab.research.google.com/assets/colab-badge.svg\" alt=\"Open In Colab\"/></a>"
      ]
    },
    {
      "cell_type": "markdown",
      "metadata": {
        "id": "PvV0tinMS3hH"
      },
      "source": [
        "Simple example  of a 1D GAN illustrating how the model is setup and how it is trained\n",
        "\n",
        "This exercise is adapted from:\n",
        "\n",
        "**Generative Adversarial Networks with Python**\n",
        "\n",
        "Deep Learning Generative Models for Image Synthesis and Image Translation \n",
        "\n",
        "by Jason Brownlee\n",
        "(https://machinelearningmastery.com/machine-learning-with-python/)"
      ]
    },
    {
      "cell_type": "markdown",
      "metadata": {
        "id": "8IGhQ_T-VmNE"
      },
      "source": [
        "# Examine the sample data distribution"
      ]
    },
    {
      "cell_type": "code",
      "metadata": {
        "colab": {
          "base_uri": "https://localhost:8080/",
          "height": 265
        },
        "id": "cFpLnH0BcR4K",
        "outputId": "1d1f1c8d-abfe-4918-f5a9-55856e0cb137"
      },
      "source": [
        "# demonstrate simple x^2 function\n",
        "from matplotlib import pyplot\n",
        "# simple function\n",
        "def calculate(x):\n",
        "  return x * x\n",
        "# define inputs\n",
        "inputs = [-0.5, -0.4, -0.3, -0.2, -0.1, 0, 0.1, 0.2, 0.3, 0.4, 0.5]\n",
        "# calculate outputs\n",
        "outputs = [calculate(x) for x in inputs]\n",
        "# plot the result\n",
        "pyplot.plot(inputs, outputs)\n",
        "pyplot.show()"
      ],
      "execution_count": null,
      "outputs": [
        {
          "data": {
            "image/png": "[encoded data removed]",
            "text/plain": [
              "<Figure size 432x288 with 1 Axes>"
            ]
          },
          "metadata": {},
          "output_type": "display_data"
        }
      ]
    },
    {
      "cell_type": "code",
      "metadata": {
        "colab": {
          "base_uri": "https://localhost:8080/",
          "height": 265
        },
        "id": "WmnILHH0ck5w",
        "outputId": "2987d2cc-3510-4406-e65c-33df24c9c8d7"
      },
      "source": [
        "# example of generating random samples from X^2\n",
        "from numpy.random import rand\n",
        "from numpy import hstack\n",
        "from matplotlib import pyplot\n",
        "# generate randoms sample from x^2\n",
        "def generate_samples(n=100):\n",
        "  # generate random inputs in [-0.5, 0.5]\n",
        "  X1 = rand(n) - 0.5\n",
        "  # generate outputs X^2 (quadratic)\n",
        "  X2 = X1 * X1\n",
        "  # stack arrays\n",
        "  X1 = X1.reshape(n, 1)\n",
        "  X2 = X2.reshape(n, 1)\n",
        "  return hstack((X1, X2))\n",
        "# generate samples\n",
        "data = generate_samples()\n",
        "# plot samples\n",
        "pyplot.scatter(data[:, 0], data[:, 1])\n",
        "pyplot.show()"
      ],
      "execution_count": null,
      "outputs": [
        {
          "data": {
            "image/png": "[encoded data removed]",
            "text/plain": [
              "<Figure size 432x288 with 1 Axes>"
            ]
          },
          "metadata": {},
          "output_type": "display_data"
        }
      ]
    },
    {
      "cell_type": "markdown",
      "metadata": {
        "id": "yYP6GerCV2uz"
      },
      "source": [
        "# Define functions that setup the network"
      ]
    },
    {
      "cell_type": "code",
      "metadata": {
        "id": "qbvIw3W-TEtw"
      },
      "source": [
        "# train a generative adversarial network on a one-dimensional function\n",
        "from numpy import hstack\n",
        "from numpy import zeros\n",
        "from numpy import ones\n",
        "from numpy.random import rand\n",
        "from numpy.random import randn\n",
        "from keras.models import Sequential\n",
        "from keras.layers import Dense\n",
        "#from matplotlib import pyplot\n",
        "\n",
        "# define the standalone discriminator model\n",
        "def define_discriminator(n_inputs=2):\n",
        "\tmodel = Sequential()\n",
        "\tmodel.add(Dense(25, activation='relu', kernel_initializer='he_uniform', input_dim=n_inputs))\n",
        "\tmodel.add(Dense(1, activation='sigmoid'))\n",
        "\t# compile model\n",
        "\tmodel.compile(loss='binary_crossentropy', optimizer='adam', metrics=['accuracy'])\n",
        "\treturn model\n",
        "\n",
        "# define the standalone generator model\n",
        "def define_generator(latent_dim, n_outputs=2):\n",
        "\tmodel = Sequential()\n",
        "\tmodel.add(Dense(15, activation='relu', kernel_initializer='he_uniform', input_dim=latent_dim))\n",
        "\tmodel.add(Dense(n_outputs, activation='linear'))\n",
        "\treturn model\n",
        "\n",
        "# define the combined generator and discriminator model, for updating the generator\n",
        "def define_gan(generator, discriminator):\n",
        "\t# make weights in the discriminator not trainable\n",
        "\tdiscriminator.trainable = False\n",
        "\t# connect them\n",
        "\tmodel = Sequential()\n",
        "\t# add generator\n",
        "\tmodel.add(generator)\n",
        "\t# add the discriminator\n",
        "\tmodel.add(discriminator)\n",
        "\t# compile model\n",
        "\tmodel.compile(loss='binary_crossentropy', optimizer='adam')\n",
        "\treturn model\n",
        "\n",
        "# generate n real samples with class labels\n",
        "def generate_real_samples(n):\n",
        "\t# generate inputs in [-0.5, 0.5]\n",
        "\tX1 = rand(n) - 0.5\n",
        "\t# generate outputs X^2\n",
        "\tX2 = X1 * X1\n",
        "\t# stack arrays\n",
        "\tX1 = X1.reshape(n, 1)\n",
        "\tX2 = X2.reshape(n, 1)\n",
        "\tX = hstack((X1, X2))\n",
        "\t# generate class labels\n",
        "\ty = ones((n, 1))\n",
        "\treturn X, y\n",
        "\n",
        "# generate points in latent space as input for the generator\n",
        "def generate_latent_points(latent_dim, n):\n",
        "\t# generate points in the latent space\n",
        "\tx_input = randn(latent_dim * n)\n",
        "\t# reshape into a batch of inputs for the network\n",
        "\tx_input = x_input.reshape(n, latent_dim)\n",
        "\treturn x_input\n",
        "\n",
        "# use the generator to generate n fake examples, with class labels\n",
        "def generate_fake_samples(generator, latent_dim, n):\n",
        "\t# generate points in latent space\n",
        "\tx_input = generate_latent_points(latent_dim, n)\n",
        "\t# predict outputs\n",
        "\tX = generator.predict(x_input)\n",
        "\t# create class labels\n",
        "\ty = zeros((n, 1))\n",
        "\treturn X, y\n",
        "\n",
        "# evaluate the discriminator and plot real and fake points\n",
        "def summarize_performance(epoch, generator, discriminator, latent_dim, n=100):\n",
        "\t# prepare real samples\n",
        "\tx_real, y_real = generate_real_samples(n)\n",
        "\t# evaluate discriminator on real examples\n",
        "\t_, acc_real = discriminator.evaluate(x_real, y_real, verbose=0)\n",
        "\t# prepare fake examples\n",
        "\tx_fake, y_fake = generate_fake_samples(generator, latent_dim, n)\n",
        "\t# evaluate discriminator on fake examples\n",
        "\t_, acc_fake = discriminator.evaluate(x_fake, y_fake, verbose=0)\n",
        "\t# summarize discriminator performance\n",
        "\tprint(epoch, acc_real, acc_fake)\n",
        "\t# scatter plot real and fake data points\n",
        "\tpyplot.scatter(x_real[:, 0], x_real[:, 1], color='red')\n",
        "\tpyplot.scatter(x_fake[:, 0], x_fake[:, 1], color='blue')\n",
        "\t# save plot to file\n",
        "\tfilename = 'generated_plot_e%03d.png' % (epoch+1)\n",
        "\tpyplot.savefig(filename)\n",
        "\tpyplot.close()\n",
        "\n",
        "# train the generator and discriminator\n",
        "def train(g_model, d_model, gan_model, latent_dim, n_epochs=6000, n_batch=128, n_eval=1000):\n",
        "\t# determine half the size of one batch, for updating the discriminator\n",
        "\thalf_batch = int(n_batch / 2)\n",
        "\t# manually enumerate epochs\n",
        "\tfor i in range(n_epochs):\n",
        "\t\t# prepare real samples\n",
        "\t\tx_real, y_real = generate_real_samples(half_batch)\n",
        "\t\t# prepare fake examples\n",
        "\t\tx_fake, y_fake = generate_fake_samples(g_model, latent_dim, half_batch)\n",
        "\t\t# update discriminator\n",
        "\t\td_model.train_on_batch(x_real, y_real)\n",
        "\t\td_model.train_on_batch(x_fake, y_fake)\n",
        "\t\t# prepare points in latent space as input for the generator\n",
        "\t\tx_gan = generate_latent_points(latent_dim, n_batch)\n",
        "\t\t# create inverted labels for the fake samples\n",
        "\t\ty_gan = ones((n_batch, 1))\n",
        "\t\t# update the generator via the discriminator's error\n",
        "\t\tgan_model.train_on_batch(x_gan, y_gan)\n",
        "\t\t# evaluate the model every n_eval epochs\n",
        "\t\tif (i+1) % n_eval == 0:\n",
        "\t\t\tsummarize_performance(i, g_model, d_model, latent_dim)"
      ],
      "execution_count": null,
      "outputs": []
    },
    {
      "cell_type": "markdown",
      "metadata": {
        "id": "t_Eus7M7WMTy"
      },
      "source": [
        "# Setup the network"
      ]
    },
    {
      "cell_type": "code",
      "metadata": {
        "id": "1bS6kAv9ThPZ"
      },
      "source": [
        "# size of the latent space\n",
        "latent_dim = 5\n",
        "# create the discriminator\n",
        "discriminator = define_discriminator()\n",
        "# create the generator\n",
        "generator = define_generator(latent_dim)\n",
        "# create the gan\n",
        "gan_model = define_gan(generator, discriminator)\n"
      ],
      "execution_count": null,
      "outputs": []
    },
    {
      "cell_type": "markdown",
      "metadata": {
        "id": "ZuVt53wYWSA5"
      },
      "source": [
        "# Train the model"
      ]
    },
    {
      "cell_type": "code",
      "metadata": {
        "colab": {
          "background_save": true
        },
        "id": "cG5ZhXd0Tlij",
        "outputId": "17fa7a0e-fa75-466a-fb23-1039d9542a3f"
      },
      "source": [
        "# train model\n",
        "train(generator, discriminator, gan_model, latent_dim)"
      ],
      "execution_count": null,
      "outputs": [
        {
          "name": "stdout",
          "output_type": "stream",
          "text": [
            "999 0.8799999952316284 0.4300000071525574\n",
            "1999 0.5299999713897705 0.5400000214576721\n",
            "2999 0.0 1.0\n",
            "3999 0.47999998927116394 0.6299999952316284\n",
            "4999 0.3400000035762787 0.7900000214576721\n",
            "5999 0.6100000143051147 0.46000000834465027\n"
          ]
        }
      ]
    },
    {
      "cell_type": "markdown",
      "metadata": {
        "id": "2lSGOH7AWbyH"
      },
      "source": [
        "Plots are generated as png files in the files section on the left. Click on the folder and refresh icon to see new png files appears as training proceeds."
      ]
    }
  ]
}